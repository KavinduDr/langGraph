{
 "cells": [
  {
   "cell_type": "code",
   "execution_count": 1,
   "id": "fc41209b",
   "metadata": {
    "_cell_guid": "b1076dfc-b9ad-4769-8c92-a6c4dae69d19",
    "_uuid": "8f2839f25d086af736a60e9eeb907d3b93b6e0e5",
    "execution": {
     "iopub.execute_input": "2025-05-27T08:21:32.496978Z",
     "iopub.status.busy": "2025-05-27T08:21:32.496677Z",
     "iopub.status.idle": "2025-05-27T08:21:34.312646Z",
     "shell.execute_reply": "2025-05-27T08:21:34.311833Z"
    },
    "papermill": {
     "duration": 1.82202,
     "end_time": "2025-05-27T08:21:34.314281",
     "exception": false,
     "start_time": "2025-05-27T08:21:32.492261",
     "status": "completed"
    },
    "tags": []
   },
   "outputs": [],
   "source": [
    "# This Python 3 environment comes with many helpful analytics libraries installed\n",
    "# It is defined by the kaggle/python Docker image: https://github.com/kaggle/docker-python\n",
    "# For example, here's several helpful packages to load\n",
    "\n",
    "import numpy as np # linear algebra\n",
    "import pandas as pd # data processing, CSV file I/O (e.g. pd.read_csv)\n",
    "\n",
    "# Input data files are available in the read-only \"../input/\" directory\n",
    "# For example, running this (by clicking run or pressing Shift+Enter) will list all files under the input directory\n",
    "\n",
    "import os\n",
    "for dirname, _, filenames in os.walk('/kaggle/input'):\n",
    "    for filename in filenames:\n",
    "        print(os.path.join(dirname, filename))\n",
    "\n",
    "# You can write up to 20GB to the current directory (/kaggle/working/) that gets preserved as output when you create a version using \"Save & Run All\" \n",
    "# You can also write temporary files to /kaggle/temp/, but they won't be saved outside of the current session"
   ]
  },
  {
   "cell_type": "code",
   "execution_count": 2,
   "id": "c3914c11",
   "metadata": {
    "execution": {
     "iopub.execute_input": "2025-05-27T08:21:34.320735Z",
     "iopub.status.busy": "2025-05-27T08:21:34.320357Z",
     "iopub.status.idle": "2025-05-27T08:21:40.719984Z",
     "shell.execute_reply": "2025-05-27T08:21:40.718919Z"
    },
    "papermill": {
     "duration": 6.404479,
     "end_time": "2025-05-27T08:21:40.721716",
     "exception": false,
     "start_time": "2025-05-27T08:21:34.317237",
     "status": "completed"
    },
    "tags": []
   },
   "outputs": [
    {
     "name": "stdout",
     "output_type": "stream",
     "text": [
      "Collecting langgraph\r\n",
      "  Downloading langgraph-0.4.7-py3-none-any.whl.metadata (6.8 kB)\r\n",
      "Requirement already satisfied: langchain-core>=0.1 in /usr/local/lib/python3.11/dist-packages (from langgraph) (0.3.50)\r\n",
      "Collecting langgraph-checkpoint>=2.0.26 (from langgraph)\r\n",
      "  Downloading langgraph_checkpoint-2.0.26-py3-none-any.whl.metadata (4.6 kB)\r\n",
      "Collecting langgraph-prebuilt>=0.2.0 (from langgraph)\r\n",
      "  Downloading langgraph_prebuilt-0.2.1-py3-none-any.whl.metadata (4.5 kB)\r\n",
      "Collecting langgraph-sdk>=0.1.42 (from langgraph)\r\n",
      "  Downloading langgraph_sdk-0.1.70-py3-none-any.whl.metadata (1.5 kB)\r\n",
      "Requirement already satisfied: pydantic>=2.7.4 in /usr/local/lib/python3.11/dist-packages (from langgraph) (2.11.4)\r\n",
      "Requirement already satisfied: xxhash>=3.5.0 in /usr/local/lib/python3.11/dist-packages (from langgraph) (3.5.0)\r\n",
      "Requirement already satisfied: langsmith<0.4,>=0.1.125 in /usr/local/lib/python3.11/dist-packages (from langchain-core>=0.1->langgraph) (0.3.23)\r\n",
      "Requirement already satisfied: tenacity!=8.4.0,<10.0.0,>=8.1.0 in /usr/local/lib/python3.11/dist-packages (from langchain-core>=0.1->langgraph) (9.1.2)\r\n",
      "Requirement already satisfied: jsonpatch<2.0,>=1.33 in /usr/local/lib/python3.11/dist-packages (from langchain-core>=0.1->langgraph) (1.33)\r\n",
      "Requirement already satisfied: PyYAML>=5.3 in /usr/local/lib/python3.11/dist-packages (from langchain-core>=0.1->langgraph) (6.0.2)\r\n",
      "Collecting packaging<25,>=23.2 (from langchain-core>=0.1->langgraph)\r\n",
      "  Downloading packaging-24.2-py3-none-any.whl.metadata (3.2 kB)\r\n",
      "Requirement already satisfied: typing-extensions>=4.7 in /usr/local/lib/python3.11/dist-packages (from langchain-core>=0.1->langgraph) (4.13.2)\r\n",
      "Collecting ormsgpack<2.0.0,>=1.8.0 (from langgraph-checkpoint>=2.0.26->langgraph)\r\n",
      "  Downloading ormsgpack-1.10.0-cp311-cp311-manylinux_2_17_x86_64.manylinux2014_x86_64.whl.metadata (43 kB)\r\n",
      "\u001b[2K     \u001b[90m━━━━━━━━━━━━━━━━━━━━━━━━━━━━━━━━━━━━━━━━\u001b[0m \u001b[32m43.7/43.7 kB\u001b[0m \u001b[31m1.4 MB/s\u001b[0m eta \u001b[36m0:00:00\u001b[0m\r\n",
      "\u001b[?25hRequirement already satisfied: httpx>=0.25.2 in /usr/local/lib/python3.11/dist-packages (from langgraph-sdk>=0.1.42->langgraph) (0.28.1)\r\n",
      "Requirement already satisfied: orjson>=3.10.1 in /usr/local/lib/python3.11/dist-packages (from langgraph-sdk>=0.1.42->langgraph) (3.10.16)\r\n",
      "Requirement already satisfied: annotated-types>=0.6.0 in /usr/local/lib/python3.11/dist-packages (from pydantic>=2.7.4->langgraph) (0.7.0)\r\n",
      "Requirement already satisfied: pydantic-core==2.33.2 in /usr/local/lib/python3.11/dist-packages (from pydantic>=2.7.4->langgraph) (2.33.2)\r\n",
      "Requirement already satisfied: typing-inspection>=0.4.0 in /usr/local/lib/python3.11/dist-packages (from pydantic>=2.7.4->langgraph) (0.4.0)\r\n",
      "Requirement already satisfied: anyio in /usr/local/lib/python3.11/dist-packages (from httpx>=0.25.2->langgraph-sdk>=0.1.42->langgraph) (4.9.0)\r\n",
      "Requirement already satisfied: certifi in /usr/local/lib/python3.11/dist-packages (from httpx>=0.25.2->langgraph-sdk>=0.1.42->langgraph) (2025.4.26)\r\n",
      "Requirement already satisfied: httpcore==1.* in /usr/local/lib/python3.11/dist-packages (from httpx>=0.25.2->langgraph-sdk>=0.1.42->langgraph) (1.0.7)\r\n",
      "Requirement already satisfied: idna in /usr/local/lib/python3.11/dist-packages (from httpx>=0.25.2->langgraph-sdk>=0.1.42->langgraph) (3.10)\r\n",
      "Requirement already satisfied: h11<0.15,>=0.13 in /usr/local/lib/python3.11/dist-packages (from httpcore==1.*->httpx>=0.25.2->langgraph-sdk>=0.1.42->langgraph) (0.14.0)\r\n",
      "Requirement already satisfied: jsonpointer>=1.9 in /usr/local/lib/python3.11/dist-packages (from jsonpatch<2.0,>=1.33->langchain-core>=0.1->langgraph) (3.0.0)\r\n",
      "Requirement already satisfied: requests<3,>=2 in /usr/local/lib/python3.11/dist-packages (from langsmith<0.4,>=0.1.125->langchain-core>=0.1->langgraph) (2.32.3)\r\n",
      "Requirement already satisfied: requests-toolbelt<2.0.0,>=1.0.0 in /usr/local/lib/python3.11/dist-packages (from langsmith<0.4,>=0.1.125->langchain-core>=0.1->langgraph) (1.0.0)\r\n",
      "Requirement already satisfied: zstandard<0.24.0,>=0.23.0 in /usr/local/lib/python3.11/dist-packages (from langsmith<0.4,>=0.1.125->langchain-core>=0.1->langgraph) (0.23.0)\r\n",
      "Requirement already satisfied: charset-normalizer<4,>=2 in /usr/local/lib/python3.11/dist-packages (from requests<3,>=2->langsmith<0.4,>=0.1.125->langchain-core>=0.1->langgraph) (3.4.2)\r\n",
      "Requirement already satisfied: urllib3<3,>=1.21.1 in /usr/local/lib/python3.11/dist-packages (from requests<3,>=2->langsmith<0.4,>=0.1.125->langchain-core>=0.1->langgraph) (2.4.0)\r\n",
      "Requirement already satisfied: sniffio>=1.1 in /usr/local/lib/python3.11/dist-packages (from anyio->httpx>=0.25.2->langgraph-sdk>=0.1.42->langgraph) (1.3.1)\r\n",
      "Downloading langgraph-0.4.7-py3-none-any.whl (154 kB)\r\n",
      "\u001b[2K   \u001b[90m━━━━━━━━━━━━━━━━━━━━━━━━━━━━━━━━━━━━━━━━\u001b[0m \u001b[32m154.9/154.9 kB\u001b[0m \u001b[31m5.4 MB/s\u001b[0m eta \u001b[36m0:00:00\u001b[0m\r\n",
      "\u001b[?25hDownloading langgraph_checkpoint-2.0.26-py3-none-any.whl (44 kB)\r\n",
      "\u001b[2K   \u001b[90m━━━━━━━━━━━━━━━━━━━━━━━━━━━━━━━━━━━━━━━━\u001b[0m \u001b[32m44.2/44.2 kB\u001b[0m \u001b[31m2.5 MB/s\u001b[0m eta \u001b[36m0:00:00\u001b[0m\r\n",
      "\u001b[?25hDownloading langgraph_prebuilt-0.2.1-py3-none-any.whl (23 kB)\r\n",
      "Downloading langgraph_sdk-0.1.70-py3-none-any.whl (49 kB)\r\n",
      "\u001b[2K   \u001b[90m━━━━━━━━━━━━━━━━━━━━━━━━━━━━━━━━━━━━━━━━\u001b[0m \u001b[32m50.0/50.0 kB\u001b[0m \u001b[31m2.8 MB/s\u001b[0m eta \u001b[36m0:00:00\u001b[0m\r\n",
      "\u001b[?25hDownloading ormsgpack-1.10.0-cp311-cp311-manylinux_2_17_x86_64.manylinux2014_x86_64.whl (216 kB)\r\n",
      "\u001b[2K   \u001b[90m━━━━━━━━━━━━━━━━━━━━━━━━━━━━━━━━━━━━━━━━\u001b[0m \u001b[32m216.5/216.5 kB\u001b[0m \u001b[31m11.0 MB/s\u001b[0m eta \u001b[36m0:00:00\u001b[0m\r\n",
      "\u001b[?25hDownloading packaging-24.2-py3-none-any.whl (65 kB)\r\n",
      "\u001b[2K   \u001b[90m━━━━━━━━━━━━━━━━━━━━━━━━━━━━━━━━━━━━━━━━\u001b[0m \u001b[32m65.5/65.5 kB\u001b[0m \u001b[31m3.6 MB/s\u001b[0m eta \u001b[36m0:00:00\u001b[0m\r\n",
      "\u001b[?25hInstalling collected packages: packaging, ormsgpack, langgraph-sdk, langgraph-checkpoint, langgraph-prebuilt, langgraph\r\n",
      "  Attempting uninstall: packaging\r\n",
      "    Found existing installation: packaging 25.0\r\n",
      "    Uninstalling packaging-25.0:\r\n",
      "      Successfully uninstalled packaging-25.0\r\n",
      "\u001b[31mERROR: pip's dependency resolver does not currently take into account all the packages that are installed. This behaviour is the source of the following dependency conflicts.\r\n",
      "datasets 3.6.0 requires fsspec[http]<=2025.3.0,>=2023.1.0, but you have fsspec 2025.3.2 which is incompatible.\r\n",
      "cesium 0.12.4 requires numpy<3.0,>=2.0, but you have numpy 1.26.4 which is incompatible.\r\n",
      "bigframes 1.42.0 requires rich<14,>=12.4.4, but you have rich 14.0.0 which is incompatible.\r\n",
      "plotnine 0.14.5 requires matplotlib>=3.8.0, but you have matplotlib 3.7.2 which is incompatible.\r\n",
      "pandas-gbq 0.28.0 requires google-api-core<3.0.0dev,>=2.10.2, but you have google-api-core 1.34.1 which is incompatible.\r\n",
      "mlxtend 0.23.4 requires scikit-learn>=1.3.1, but you have scikit-learn 1.2.2 which is incompatible.\u001b[0m\u001b[31m\r\n",
      "\u001b[0mSuccessfully installed langgraph-0.4.7 langgraph-checkpoint-2.0.26 langgraph-prebuilt-0.2.1 langgraph-sdk-0.1.70 ormsgpack-1.10.0 packaging-24.2\r\n"
     ]
    }
   ],
   "source": [
    "!pip install langgraph"
   ]
  },
  {
   "cell_type": "code",
   "execution_count": 3,
   "id": "df0e57e2",
   "metadata": {
    "execution": {
     "iopub.execute_input": "2025-05-27T08:21:40.731040Z",
     "iopub.status.busy": "2025-05-27T08:21:40.730129Z",
     "iopub.status.idle": "2025-05-27T08:21:42.716917Z",
     "shell.execute_reply": "2025-05-27T08:21:42.716197Z"
    },
    "papermill": {
     "duration": 1.992849,
     "end_time": "2025-05-27T08:21:42.718437",
     "exception": false,
     "start_time": "2025-05-27T08:21:40.725588",
     "status": "completed"
    },
    "tags": []
   },
   "outputs": [],
   "source": [
    "from langgraph.graph import StateGraph\n",
    "from typing import Dict, TypedDict, List"
   ]
  },
  {
   "cell_type": "code",
   "execution_count": 4,
   "id": "e1ec7c91",
   "metadata": {
    "execution": {
     "iopub.execute_input": "2025-05-27T08:21:42.727567Z",
     "iopub.status.busy": "2025-05-27T08:21:42.726612Z",
     "iopub.status.idle": "2025-05-27T08:21:42.731107Z",
     "shell.execute_reply": "2025-05-27T08:21:42.730422Z"
    },
    "papermill": {
     "duration": 0.010297,
     "end_time": "2025-05-27T08:21:42.732419",
     "exception": false,
     "start_time": "2025-05-27T08:21:42.722122",
     "status": "completed"
    },
    "tags": []
   },
   "outputs": [],
   "source": [
    "class AgentState(TypedDict):\n",
    "    values: List[int]\n",
    "    name: str\n",
    "    result: str"
   ]
  },
  {
   "cell_type": "code",
   "execution_count": 5,
   "id": "94348172",
   "metadata": {
    "execution": {
     "iopub.execute_input": "2025-05-27T08:21:42.740883Z",
     "iopub.status.busy": "2025-05-27T08:21:42.740112Z",
     "iopub.status.idle": "2025-05-27T08:21:42.744820Z",
     "shell.execute_reply": "2025-05-27T08:21:42.744141Z"
    },
    "papermill": {
     "duration": 0.010465,
     "end_time": "2025-05-27T08:21:42.746331",
     "exception": false,
     "start_time": "2025-05-27T08:21:42.735866",
     "status": "completed"
    },
    "tags": []
   },
   "outputs": [],
   "source": [
    "def process_values(state: AgentState) -> AgentState:\n",
    "    \"\"\"This is a function that handles multiple inputs\"\"\"\n",
    "    print(state)\n",
    "    state[\"result\"] = f\"Hi there {state['name']}, Your final result is {sum(state['values'])}\"\n",
    "    print(state)\n",
    "    return state"
   ]
  },
  {
   "cell_type": "code",
   "execution_count": 6,
   "id": "f3e67781",
   "metadata": {
    "execution": {
     "iopub.execute_input": "2025-05-27T08:21:42.754369Z",
     "iopub.status.busy": "2025-05-27T08:21:42.754045Z",
     "iopub.status.idle": "2025-05-27T08:21:42.760208Z",
     "shell.execute_reply": "2025-05-27T08:21:42.759355Z"
    },
    "papermill": {
     "duration": 0.011817,
     "end_time": "2025-05-27T08:21:42.761649",
     "exception": false,
     "start_time": "2025-05-27T08:21:42.749832",
     "status": "completed"
    },
    "tags": []
   },
   "outputs": [],
   "source": [
    "graph = StateGraph(AgentState)\n",
    "\n",
    "graph.add_node(\"processor\", process_values)\n",
    "graph.set_entry_point(\"processor\")\n",
    "graph.set_finish_point(\"processor\")\n",
    "\n",
    "app = graph.compile()"
   ]
  },
  {
   "cell_type": "code",
   "execution_count": 7,
   "id": "cbf062d3",
   "metadata": {
    "execution": {
     "iopub.execute_input": "2025-05-27T08:21:42.769881Z",
     "iopub.status.busy": "2025-05-27T08:21:42.769592Z",
     "iopub.status.idle": "2025-05-27T08:21:42.899004Z",
     "shell.execute_reply": "2025-05-27T08:21:42.898127Z"
    },
    "papermill": {
     "duration": 0.135198,
     "end_time": "2025-05-27T08:21:42.900520",
     "exception": false,
     "start_time": "2025-05-27T08:21:42.765322",
     "status": "completed"
    },
    "tags": []
   },
   "outputs": [
    {
     "data": {
      "image/png": "[encoded data removed]",
      "text/plain": [
       "<IPython.core.display.Image object>"
      ]
     },
     "metadata": {},
     "output_type": "display_data"
    }
   ],
   "source": [
    "from IPython.display import Image, display\n",
    "display(Image(app.get_graph().draw_mermaid_png()))"
   ]
  },
  {
   "cell_type": "code",
   "execution_count": 8,
   "id": "10b47152",
   "metadata": {
    "execution": {
     "iopub.execute_input": "2025-05-27T08:21:42.909208Z",
     "iopub.status.busy": "2025-05-27T08:21:42.908882Z",
     "iopub.status.idle": "2025-05-27T08:21:42.929013Z",
     "shell.execute_reply": "2025-05-27T08:21:42.928029Z"
    },
    "papermill": {
     "duration": 0.026072,
     "end_time": "2025-05-27T08:21:42.930436",
     "exception": false,
     "start_time": "2025-05-27T08:21:42.904364",
     "status": "completed"
    },
    "tags": []
   },
   "outputs": [
    {
     "name": "stdout",
     "output_type": "stream",
     "text": [
      "{'values': [1, 2, 3, 4], 'name': 'Bob'}\n",
      "{'values': [1, 2, 3, 4], 'name': 'Bob', 'result': 'Hi there Bob, Your final result is 10'}\n"
     ]
    }
   ],
   "source": [
    "answers = app.invoke({\"values\": [1,2,3,4], \"name\": \"Bob\"}) #if we don't pass an input then those values will automatically be assignmed as null"
   ]
  },
  {
   "cell_type": "code",
   "execution_count": 9,
   "id": "6f3f7507",
   "metadata": {
    "execution": {
     "iopub.execute_input": "2025-05-27T08:21:42.939319Z",
     "iopub.status.busy": "2025-05-27T08:21:42.938873Z",
     "iopub.status.idle": "2025-05-27T08:21:42.943604Z",
     "shell.execute_reply": "2025-05-27T08:21:42.942820Z"
    },
    "papermill": {
     "duration": 0.010472,
     "end_time": "2025-05-27T08:21:42.944816",
     "exception": false,
     "start_time": "2025-05-27T08:21:42.934344",
     "status": "completed"
    },
    "tags": []
   },
   "outputs": [
    {
     "name": "stdout",
     "output_type": "stream",
     "text": [
      "{'values': [1, 2, 3, 4], 'name': 'Bob', 'result': 'Hi there Bob, Your final result is 10'}\n"
     ]
    }
   ],
   "source": [
    "print(answers)"
   ]
  },
  {
   "cell_type": "code",
   "execution_count": 10,
   "id": "cba54150",
   "metadata": {
    "execution": {
     "iopub.execute_input": "2025-05-27T08:21:42.953635Z",
     "iopub.status.busy": "2025-05-27T08:21:42.953317Z",
     "iopub.status.idle": "2025-05-27T08:21:42.958014Z",
     "shell.execute_reply": "2025-05-27T08:21:42.957101Z"
    },
    "papermill": {
     "duration": 0.010563,
     "end_time": "2025-05-27T08:21:42.959357",
     "exception": false,
     "start_time": "2025-05-27T08:21:42.948794",
     "status": "completed"
    },
    "tags": []
   },
   "outputs": [
    {
     "name": "stdout",
     "output_type": "stream",
     "text": [
      "Hi there Bob, Your final result is 10\n"
     ]
    }
   ],
   "source": [
    "print(answers[\"result\"])"
   ]
  },
  {
   "cell_type": "code",
   "execution_count": null,
   "id": "4b4b1abb",
   "metadata": {
    "papermill": {
     "duration": 0.003431,
     "end_time": "2025-05-27T08:21:42.966676",
     "exception": false,
     "start_time": "2025-05-27T08:21:42.963245",
     "status": "completed"
    },
    "tags": []
   },
   "outputs": [],
   "source": []
  }
 ],
 "metadata": {
  "kaggle": {
   "accelerator": "none",
   "dataSources": [],
   "dockerImageVersionId": 31040,
   "isGpuEnabled": false,
   "isInternetEnabled": true,
   "language": "python",
   "sourceType": "notebook"
  },
  "kernelspec": {
   "display_name": "Python 3",
   "language": "python",
   "name": "python3"
  },
  "language_info": {
   "codemirror_mode": {
    "name": "ipython",
    "version": 3
   },
   "file_extension": ".py",
   "mimetype": "text/x-python",
   "name": "python",
   "nbconvert_exporter": "python",
   "pygments_lexer": "ipython3",
   "version": "3.11.11"
  },
  "papermill": {
   "default_parameters": {},
   "duration": 15.831613,
   "end_time": "2025-05-27T08:21:43.689856",
   "environment_variables": {},
   "exception": null,
   "input_path": "__notebook__.ipynb",
   "output_path": "__notebook__.ipynb",
   "parameters": {},
   "start_time": "2025-05-27T08:21:27.858243",
   "version": "2.6.0"
  }
 },
 "nbformat": 4,
 "nbformat_minor": 5
}
