{
 "cells": [
  {
   "cell_type": "code",
   "execution_count": 1,
   "id": "20780640",
   "metadata": {
    "_cell_guid": "b1076dfc-b9ad-4769-8c92-a6c4dae69d19",
    "_uuid": "8f2839f25d086af736a60e9eeb907d3b93b6e0e5",
    "execution": {
     "iopub.execute_input": "2025-05-27T08:55:08.927923Z",
     "iopub.status.busy": "2025-05-27T08:55:08.927589Z",
     "iopub.status.idle": "2025-05-27T08:55:10.943823Z",
     "shell.execute_reply": "2025-05-27T08:55:10.942513Z"
    },
    "papermill": {
     "duration": 2.022293,
     "end_time": "2025-05-27T08:55:10.945673",
     "exception": false,
     "start_time": "2025-05-27T08:55:08.923380",
     "status": "completed"
    },
    "tags": []
   },
   "outputs": [],
   "source": [
    "# This Python 3 environment comes with many helpful analytics libraries installed\n",
    "# It is defined by the kaggle/python Docker image: https://github.com/kaggle/docker-python\n",
    "# For example, here's several helpful packages to load\n",
    "\n",
    "import numpy as np # linear algebra\n",
    "import pandas as pd # data processing, CSV file I/O (e.g. pd.read_csv)\n",
    "\n",
    "# Input data files are available in the read-only \"../input/\" directory\n",
    "# For example, running this (by clicking run or pressing Shift+Enter) will list all files under the input directory\n",
    "\n",
    "import os\n",
    "for dirname, _, filenames in os.walk('/kaggle/input'):\n",
    "    for filename in filenames:\n",
    "        print(os.path.join(dirname, filename))\n",
    "\n",
    "# You can write up to 20GB to the current directory (/kaggle/working/) that gets preserved as output when you create a version using \"Save & Run All\" \n",
    "# You can also write temporary files to /kaggle/temp/, but they won't be saved outside of the current session"
   ]
  },
  {
   "cell_type": "code",
   "execution_count": 2,
   "id": "69ba347c",
   "metadata": {
    "execution": {
     "iopub.execute_input": "2025-05-27T08:55:10.952878Z",
     "iopub.status.busy": "2025-05-27T08:55:10.952392Z",
     "iopub.status.idle": "2025-05-27T08:55:17.990003Z",
     "shell.execute_reply": "2025-05-27T08:55:17.988732Z"
    },
    "papermill": {
     "duration": 7.042982,
     "end_time": "2025-05-27T08:55:17.991817",
     "exception": false,
     "start_time": "2025-05-27T08:55:10.948835",
     "status": "completed"
    },
    "tags": []
   },
   "outputs": [
    {
     "name": "stdout",
     "output_type": "stream",
     "text": [
      "Collecting langgraph\r\n",
      "  Downloading langgraph-0.4.7-py3-none-any.whl.metadata (6.8 kB)\r\n",
      "Requirement already satisfied: langchain-core>=0.1 in /usr/local/lib/python3.11/dist-packages (from langgraph) (0.3.50)\r\n",
      "Collecting langgraph-checkpoint>=2.0.26 (from langgraph)\r\n",
      "  Downloading langgraph_checkpoint-2.0.26-py3-none-any.whl.metadata (4.6 kB)\r\n",
      "Collecting langgraph-prebuilt>=0.2.0 (from langgraph)\r\n",
      "  Downloading langgraph_prebuilt-0.2.1-py3-none-any.whl.metadata (4.5 kB)\r\n",
      "Collecting langgraph-sdk>=0.1.42 (from langgraph)\r\n",
      "  Downloading langgraph_sdk-0.1.70-py3-none-any.whl.metadata (1.5 kB)\r\n",
      "Requirement already satisfied: pydantic>=2.7.4 in /usr/local/lib/python3.11/dist-packages (from langgraph) (2.11.4)\r\n",
      "Requirement already satisfied: xxhash>=3.5.0 in /usr/local/lib/python3.11/dist-packages (from langgraph) (3.5.0)\r\n",
      "Requirement already satisfied: langsmith<0.4,>=0.1.125 in /usr/local/lib/python3.11/dist-packages (from langchain-core>=0.1->langgraph) (0.3.23)\r\n",
      "Requirement already satisfied: tenacity!=8.4.0,<10.0.0,>=8.1.0 in /usr/local/lib/python3.11/dist-packages (from langchain-core>=0.1->langgraph) (9.1.2)\r\n",
      "Requirement already satisfied: jsonpatch<2.0,>=1.33 in /usr/local/lib/python3.11/dist-packages (from langchain-core>=0.1->langgraph) (1.33)\r\n",
      "Requirement already satisfied: PyYAML>=5.3 in /usr/local/lib/python3.11/dist-packages (from langchain-core>=0.1->langgraph) (6.0.2)\r\n",
      "Collecting packaging<25,>=23.2 (from langchain-core>=0.1->langgraph)\r\n",
      "  Downloading packaging-24.2-py3-none-any.whl.metadata (3.2 kB)\r\n",
      "Requirement already satisfied: typing-extensions>=4.7 in /usr/local/lib/python3.11/dist-packages (from langchain-core>=0.1->langgraph) (4.13.2)\r\n",
      "Collecting ormsgpack<2.0.0,>=1.8.0 (from langgraph-checkpoint>=2.0.26->langgraph)\r\n",
      "  Downloading ormsgpack-1.10.0-cp311-cp311-manylinux_2_17_x86_64.manylinux2014_x86_64.whl.metadata (43 kB)\r\n",
      "\u001b[2K     \u001b[90m━━━━━━━━━━━━━━━━━━━━━━━━━━━━━━━━━━━━━━━━\u001b[0m \u001b[32m43.7/43.7 kB\u001b[0m \u001b[31m1.6 MB/s\u001b[0m eta \u001b[36m0:00:00\u001b[0m\r\n",
      "\u001b[?25hRequirement already satisfied: httpx>=0.25.2 in /usr/local/lib/python3.11/dist-packages (from langgraph-sdk>=0.1.42->langgraph) (0.28.1)\r\n",
      "Requirement already satisfied: orjson>=3.10.1 in /usr/local/lib/python3.11/dist-packages (from langgraph-sdk>=0.1.42->langgraph) (3.10.16)\r\n",
      "Requirement already satisfied: annotated-types>=0.6.0 in /usr/local/lib/python3.11/dist-packages (from pydantic>=2.7.4->langgraph) (0.7.0)\r\n",
      "Requirement already satisfied: pydantic-core==2.33.2 in /usr/local/lib/python3.11/dist-packages (from pydantic>=2.7.4->langgraph) (2.33.2)\r\n",
      "Requirement already satisfied: typing-inspection>=0.4.0 in /usr/local/lib/python3.11/dist-packages (from pydantic>=2.7.4->langgraph) (0.4.0)\r\n",
      "Requirement already satisfied: anyio in /usr/local/lib/python3.11/dist-packages (from httpx>=0.25.2->langgraph-sdk>=0.1.42->langgraph) (4.9.0)\r\n",
      "Requirement already satisfied: certifi in /usr/local/lib/python3.11/dist-packages (from httpx>=0.25.2->langgraph-sdk>=0.1.42->langgraph) (2025.4.26)\r\n",
      "Requirement already satisfied: httpcore==1.* in /usr/local/lib/python3.11/dist-packages (from httpx>=0.25.2->langgraph-sdk>=0.1.42->langgraph) (1.0.7)\r\n",
      "Requirement already satisfied: idna in /usr/local/lib/python3.11/dist-packages (from httpx>=0.25.2->langgraph-sdk>=0.1.42->langgraph) (3.10)\r\n",
      "Requirement already satisfied: h11<0.15,>=0.13 in /usr/local/lib/python3.11/dist-packages (from httpcore==1.*->httpx>=0.25.2->langgraph-sdk>=0.1.42->langgraph) (0.14.0)\r\n",
      "Requirement already satisfied: jsonpointer>=1.9 in /usr/local/lib/python3.11/dist-packages (from jsonpatch<2.0,>=1.33->langchain-core>=0.1->langgraph) (3.0.0)\r\n",
      "Requirement already satisfied: requests<3,>=2 in /usr/local/lib/python3.11/dist-packages (from langsmith<0.4,>=0.1.125->langchain-core>=0.1->langgraph) (2.32.3)\r\n",
      "Requirement already satisfied: requests-toolbelt<2.0.0,>=1.0.0 in /usr/local/lib/python3.11/dist-packages (from langsmith<0.4,>=0.1.125->langchain-core>=0.1->langgraph) (1.0.0)\r\n",
      "Requirement already satisfied: zstandard<0.24.0,>=0.23.0 in /usr/local/lib/python3.11/dist-packages (from langsmith<0.4,>=0.1.125->langchain-core>=0.1->langgraph) (0.23.0)\r\n",
      "Requirement already satisfied: charset-normalizer<4,>=2 in /usr/local/lib/python3.11/dist-packages (from requests<3,>=2->langsmith<0.4,>=0.1.125->langchain-core>=0.1->langgraph) (3.4.2)\r\n",
      "Requirement already satisfied: urllib3<3,>=1.21.1 in /usr/local/lib/python3.11/dist-packages (from requests<3,>=2->langsmith<0.4,>=0.1.125->langchain-core>=0.1->langgraph) (2.4.0)\r\n",
      "Requirement already satisfied: sniffio>=1.1 in /usr/local/lib/python3.11/dist-packages (from anyio->httpx>=0.25.2->langgraph-sdk>=0.1.42->langgraph) (1.3.1)\r\n",
      "Downloading langgraph-0.4.7-py3-none-any.whl (154 kB)\r\n",
      "\u001b[2K   \u001b[90m━━━━━━━━━━━━━━━━━━━━━━━━━━━━━━━━━━━━━━━━\u001b[0m \u001b[32m154.9/154.9 kB\u001b[0m \u001b[31m6.2 MB/s\u001b[0m eta \u001b[36m0:00:00\u001b[0m\r\n",
      "\u001b[?25hDownloading langgraph_checkpoint-2.0.26-py3-none-any.whl (44 kB)\r\n",
      "\u001b[2K   \u001b[90m━━━━━━━━━━━━━━━━━━━━━━━━━━━━━━━━━━━━━━━━\u001b[0m \u001b[32m44.2/44.2 kB\u001b[0m \u001b[31m1.7 MB/s\u001b[0m eta \u001b[36m0:00:00\u001b[0m\r\n",
      "\u001b[?25hDownloading langgraph_prebuilt-0.2.1-py3-none-any.whl (23 kB)\r\n",
      "Downloading langgraph_sdk-0.1.70-py3-none-any.whl (49 kB)\r\n",
      "\u001b[2K   \u001b[90m━━━━━━━━━━━━━━━━━━━━━━━━━━━━━━━━━━━━━━━━\u001b[0m \u001b[32m50.0/50.0 kB\u001b[0m \u001b[31m2.4 MB/s\u001b[0m eta \u001b[36m0:00:00\u001b[0m\r\n",
      "\u001b[?25hDownloading ormsgpack-1.10.0-cp311-cp311-manylinux_2_17_x86_64.manylinux2014_x86_64.whl (216 kB)\r\n",
      "\u001b[2K   \u001b[90m━━━━━━━━━━━━━━━━━━━━━━━━━━━━━━━━━━━━━━━━\u001b[0m \u001b[32m216.5/216.5 kB\u001b[0m \u001b[31m9.7 MB/s\u001b[0m eta \u001b[36m0:00:00\u001b[0m\r\n",
      "\u001b[?25hDownloading packaging-24.2-py3-none-any.whl (65 kB)\r\n",
      "\u001b[2K   \u001b[90m━━━━━━━━━━━━━━━━━━━━━━━━━━━━━━━━━━━━━━━━\u001b[0m \u001b[32m65.5/65.5 kB\u001b[0m \u001b[31m3.0 MB/s\u001b[0m eta \u001b[36m0:00:00\u001b[0m\r\n",
      "\u001b[?25hInstalling collected packages: packaging, ormsgpack, langgraph-sdk, langgraph-checkpoint, langgraph-prebuilt, langgraph\r\n",
      "  Attempting uninstall: packaging\r\n",
      "    Found existing installation: packaging 25.0\r\n",
      "    Uninstalling packaging-25.0:\r\n",
      "      Successfully uninstalled packaging-25.0\r\n",
      "\u001b[31mERROR: pip's dependency resolver does not currently take into account all the packages that are installed. This behaviour is the source of the following dependency conflicts.\r\n",
      "datasets 3.6.0 requires fsspec[http]<=2025.3.0,>=2023.1.0, but you have fsspec 2025.3.2 which is incompatible.\r\n",
      "cesium 0.12.4 requires numpy<3.0,>=2.0, but you have numpy 1.26.4 which is incompatible.\r\n",
      "bigframes 1.42.0 requires rich<14,>=12.4.4, but you have rich 14.0.0 which is incompatible.\r\n",
      "plotnine 0.14.5 requires matplotlib>=3.8.0, but you have matplotlib 3.7.2 which is incompatible.\r\n",
      "pandas-gbq 0.28.0 requires google-api-core<3.0.0dev,>=2.10.2, but you have google-api-core 1.34.1 which is incompatible.\r\n",
      "mlxtend 0.23.4 requires scikit-learn>=1.3.1, but you have scikit-learn 1.2.2 which is incompatible.\u001b[0m\u001b[31m\r\n",
      "\u001b[0mSuccessfully installed langgraph-0.4.7 langgraph-checkpoint-2.0.26 langgraph-prebuilt-0.2.1 langgraph-sdk-0.1.70 ormsgpack-1.10.0 packaging-24.2\r\n"
     ]
    }
   ],
   "source": [
    "!pip install langgraph"
   ]
  },
  {
   "cell_type": "code",
   "execution_count": 3,
   "id": "3d07fd8e",
   "metadata": {
    "execution": {
     "iopub.execute_input": "2025-05-27T08:55:18.000933Z",
     "iopub.status.busy": "2025-05-27T08:55:18.000485Z",
     "iopub.status.idle": "2025-05-27T08:55:20.179061Z",
     "shell.execute_reply": "2025-05-27T08:55:20.178041Z"
    },
    "papermill": {
     "duration": 2.184877,
     "end_time": "2025-05-27T08:55:20.180689",
     "exception": false,
     "start_time": "2025-05-27T08:55:17.995812",
     "status": "completed"
    },
    "tags": []
   },
   "outputs": [],
   "source": [
    "from langgraph.graph import StateGraph\n",
    "from typing import Dict, TypedDict, List"
   ]
  },
  {
   "cell_type": "code",
   "execution_count": 4,
   "id": "66151105",
   "metadata": {
    "execution": {
     "iopub.execute_input": "2025-05-27T08:55:20.189553Z",
     "iopub.status.busy": "2025-05-27T08:55:20.189112Z",
     "iopub.status.idle": "2025-05-27T08:55:20.194092Z",
     "shell.execute_reply": "2025-05-27T08:55:20.193054Z"
    },
    "papermill": {
     "duration": 0.011057,
     "end_time": "2025-05-27T08:55:20.195630",
     "exception": false,
     "start_time": "2025-05-27T08:55:20.184573",
     "status": "completed"
    },
    "tags": []
   },
   "outputs": [],
   "source": [
    "class AgentState(TypedDict):\n",
    "    name: str\n",
    "    values: List[int]\n",
    "    operation: str\n",
    "    result: str"
   ]
  },
  {
   "cell_type": "code",
   "execution_count": 5,
   "id": "bc6875fe",
   "metadata": {
    "execution": {
     "iopub.execute_input": "2025-05-27T08:55:20.204368Z",
     "iopub.status.busy": "2025-05-27T08:55:20.203668Z",
     "iopub.status.idle": "2025-05-27T08:55:20.209083Z",
     "shell.execute_reply": "2025-05-27T08:55:20.208165Z"
    },
    "papermill": {
     "duration": 0.011097,
     "end_time": "2025-05-27T08:55:20.210446",
     "exception": false,
     "start_time": "2025-05-27T08:55:20.199349",
     "status": "completed"
    },
    "tags": []
   },
   "outputs": [],
   "source": [
    "import math\n",
    "\n",
    "def calculator(state: AgentState) -> AgentState:\n",
    "    \"\"\"This is a function that create a calculator with addition and multiplier\"\"\"\n",
    "    if(state[\"operation\"] == \"+\"):\n",
    "        state[\"result\"] = f\"Hi, {state['name']}, your answer is {sum(state['values'])}\"\n",
    "    elif (state[\"operation\"] == \"*\"):\n",
    "        state[\"result\"] = f\"Hi, {state['name']}, Your answer is {math.prod(state['values'])}\"\n",
    "    return state\n",
    "\n"
   ]
  },
  {
   "cell_type": "code",
   "execution_count": 6,
   "id": "694858c0",
   "metadata": {
    "execution": {
     "iopub.execute_input": "2025-05-27T08:55:20.219256Z",
     "iopub.status.busy": "2025-05-27T08:55:20.218587Z",
     "iopub.status.idle": "2025-05-27T08:55:20.225271Z",
     "shell.execute_reply": "2025-05-27T08:55:20.224467Z"
    },
    "papermill": {
     "duration": 0.01262,
     "end_time": "2025-05-27T08:55:20.226727",
     "exception": false,
     "start_time": "2025-05-27T08:55:20.214107",
     "status": "completed"
    },
    "tags": []
   },
   "outputs": [],
   "source": [
    "graph = StateGraph(AgentState)\n",
    "\n",
    "graph.add_node(\"calculator\", calculator)\n",
    "graph.set_entry_point(\"calculator\")\n",
    "graph.set_finish_point(\"calculator\")\n",
    "\n",
    "app = graph.compile()"
   ]
  },
  {
   "cell_type": "code",
   "execution_count": 7,
   "id": "6a83dfa4",
   "metadata": {
    "execution": {
     "iopub.execute_input": "2025-05-27T08:55:20.235033Z",
     "iopub.status.busy": "2025-05-27T08:55:20.234705Z",
     "iopub.status.idle": "2025-05-27T08:55:20.633616Z",
     "shell.execute_reply": "2025-05-27T08:55:20.632542Z"
    },
    "papermill": {
     "duration": 0.404941,
     "end_time": "2025-05-27T08:55:20.635336",
     "exception": false,
     "start_time": "2025-05-27T08:55:20.230395",
     "status": "completed"
    },
    "tags": []
   },
   "outputs": [
    {
     "data": {
      "image/png": "[encoded data removed]",
      "text/plain": [
       "<IPython.core.display.Image object>"
      ]
     },
     "metadata": {},
     "output_type": "display_data"
    }
   ],
   "source": [
    "from IPython.display import display, Image\n",
    "display(Image(app.get_graph().draw_mermaid_png()))"
   ]
  },
  {
   "cell_type": "code",
   "execution_count": 8,
   "id": "a69074d2",
   "metadata": {
    "execution": {
     "iopub.execute_input": "2025-05-27T08:55:20.644382Z",
     "iopub.status.busy": "2025-05-27T08:55:20.644090Z",
     "iopub.status.idle": "2025-05-27T08:55:20.668786Z",
     "shell.execute_reply": "2025-05-27T08:55:20.668050Z"
    },
    "papermill": {
     "duration": 0.030962,
     "end_time": "2025-05-27T08:55:20.670338",
     "exception": false,
     "start_time": "2025-05-27T08:55:20.639376",
     "status": "completed"
    },
    "tags": []
   },
   "outputs": [],
   "source": [
    "result = app.invoke({\"name\":\"Jack Sparrow\", \"values\": [1,2,3,4], \"operation\": \"*\"})"
   ]
  },
  {
   "cell_type": "code",
   "execution_count": 9,
   "id": "44aa3aef",
   "metadata": {
    "execution": {
     "iopub.execute_input": "2025-05-27T08:55:20.679300Z",
     "iopub.status.busy": "2025-05-27T08:55:20.679019Z",
     "iopub.status.idle": "2025-05-27T08:55:20.684119Z",
     "shell.execute_reply": "2025-05-27T08:55:20.682837Z"
    },
    "papermill": {
     "duration": 0.011182,
     "end_time": "2025-05-27T08:55:20.685523",
     "exception": false,
     "start_time": "2025-05-27T08:55:20.674341",
     "status": "completed"
    },
    "tags": []
   },
   "outputs": [
    {
     "name": "stdout",
     "output_type": "stream",
     "text": [
      "Hi, Jack Sparrow, Your answer is 24\n"
     ]
    }
   ],
   "source": [
    "print(result[\"result\"])"
   ]
  },
  {
   "cell_type": "code",
   "execution_count": null,
   "id": "820e4ef9",
   "metadata": {
    "papermill": {
     "duration": 0.003605,
     "end_time": "2025-05-27T08:55:20.693080",
     "exception": false,
     "start_time": "2025-05-27T08:55:20.689475",
     "status": "completed"
    },
    "tags": []
   },
   "outputs": [],
   "source": []
  }
 ],
 "metadata": {
  "kaggle": {
   "accelerator": "none",
   "dataSources": [],
   "dockerImageVersionId": 31040,
   "isGpuEnabled": false,
   "isInternetEnabled": true,
   "language": "python",
   "sourceType": "notebook"
  },
  "kernelspec": {
   "display_name": "Python 3",
   "language": "python",
   "name": "python3"
  },
  "language_info": {
   "codemirror_mode": {
    "name": "ipython",
    "version": 3
   },
   "file_extension": ".py",
   "mimetype": "text/x-python",
   "name": "python",
   "nbconvert_exporter": "python",
   "pygments_lexer": "ipython3",
   "version": "3.11.11"
  },
  "papermill": {
   "default_parameters": {},
   "duration": 17.677852,
   "end_time": "2025-05-27T08:55:21.517359",
   "environment_variables": {},
   "exception": null,
   "input_path": "__notebook__.ipynb",
   "output_path": "__notebook__.ipynb",
   "parameters": {},
   "start_time": "2025-05-27T08:55:03.839507",
   "version": "2.6.0"
  }
 },
 "nbformat": 4,
 "nbformat_minor": 5
}
