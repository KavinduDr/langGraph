{
 "cells": [
  {
   "cell_type": "code",
   "execution_count": 1,
   "id": "5d106d20",
   "metadata": {
    "_cell_guid": "b1076dfc-b9ad-4769-8c92-a6c4dae69d19",
    "_uuid": "8f2839f25d086af736a60e9eeb907d3b93b6e0e5",
    "execution": {
     "iopub.execute_input": "2025-05-28T03:39:41.897974Z",
     "iopub.status.busy": "2025-05-28T03:39:41.897640Z",
     "iopub.status.idle": "2025-05-28T03:39:43.771747Z",
     "shell.execute_reply": "2025-05-28T03:39:43.770955Z"
    },
    "papermill": {
     "duration": 1.879797,
     "end_time": "2025-05-28T03:39:43.773356",
     "exception": false,
     "start_time": "2025-05-28T03:39:41.893559",
     "status": "completed"
    },
    "tags": []
   },
   "outputs": [],
   "source": [
    "# This Python 3 environment comes with many helpful analytics libraries installed\n",
    "# It is defined by the kaggle/python Docker image: https://github.com/kaggle/docker-python\n",
    "# For example, here's several helpful packages to load\n",
    "\n",
    "import numpy as np # linear algebra\n",
    "import pandas as pd # data processing, CSV file I/O (e.g. pd.read_csv)\n",
    "\n",
    "# Input data files are available in the read-only \"../input/\" directory\n",
    "# For example, running this (by clicking run or pressing Shift+Enter) will list all files under the input directory\n",
    "\n",
    "import os\n",
    "for dirname, _, filenames in os.walk('/kaggle/input'):\n",
    "    for filename in filenames:\n",
    "        print(os.path.join(dirname, filename))\n",
    "\n",
    "# You can write up to 20GB to the current directory (/kaggle/working/) that gets preserved as output when you create a version using \"Save & Run All\" \n",
    "# You can also write temporary files to /kaggle/temp/, but they won't be saved outside of the current session"
   ]
  },
  {
   "cell_type": "code",
   "execution_count": 2,
   "id": "32c853d8",
   "metadata": {
    "execution": {
     "iopub.execute_input": "2025-05-28T03:39:43.780443Z",
     "iopub.status.busy": "2025-05-28T03:39:43.779545Z",
     "iopub.status.idle": "2025-05-28T03:39:50.330602Z",
     "shell.execute_reply": "2025-05-28T03:39:50.329662Z"
    },
    "papermill": {
     "duration": 6.555938,
     "end_time": "2025-05-28T03:39:50.332162",
     "exception": false,
     "start_time": "2025-05-28T03:39:43.776224",
     "status": "completed"
    },
    "tags": []
   },
   "outputs": [
    {
     "name": "stdout",
     "output_type": "stream",
     "text": [
      "Collecting langgraph\r\n",
      "  Downloading langgraph-0.4.7-py3-none-any.whl.metadata (6.8 kB)\r\n",
      "Requirement already satisfied: langchain-core>=0.1 in /usr/local/lib/python3.11/dist-packages (from langgraph) (0.3.50)\r\n",
      "Collecting langgraph-checkpoint>=2.0.26 (from langgraph)\r\n",
      "  Downloading langgraph_checkpoint-2.0.26-py3-none-any.whl.metadata (4.6 kB)\r\n",
      "Collecting langgraph-prebuilt>=0.2.0 (from langgraph)\r\n",
      "  Downloading langgraph_prebuilt-0.2.1-py3-none-any.whl.metadata (4.5 kB)\r\n",
      "Collecting langgraph-sdk>=0.1.42 (from langgraph)\r\n",
      "  Downloading langgraph_sdk-0.1.70-py3-none-any.whl.metadata (1.5 kB)\r\n",
      "Requirement already satisfied: pydantic>=2.7.4 in /usr/local/lib/python3.11/dist-packages (from langgraph) (2.11.4)\r\n",
      "Requirement already satisfied: xxhash>=3.5.0 in /usr/local/lib/python3.11/dist-packages (from langgraph) (3.5.0)\r\n",
      "Requirement already satisfied: langsmith<0.4,>=0.1.125 in /usr/local/lib/python3.11/dist-packages (from langchain-core>=0.1->langgraph) (0.3.23)\r\n",
      "Requirement already satisfied: tenacity!=8.4.0,<10.0.0,>=8.1.0 in /usr/local/lib/python3.11/dist-packages (from langchain-core>=0.1->langgraph) (9.1.2)\r\n",
      "Requirement already satisfied: jsonpatch<2.0,>=1.33 in /usr/local/lib/python3.11/dist-packages (from langchain-core>=0.1->langgraph) (1.33)\r\n",
      "Requirement already satisfied: PyYAML>=5.3 in /usr/local/lib/python3.11/dist-packages (from langchain-core>=0.1->langgraph) (6.0.2)\r\n",
      "Collecting packaging<25,>=23.2 (from langchain-core>=0.1->langgraph)\r\n",
      "  Downloading packaging-24.2-py3-none-any.whl.metadata (3.2 kB)\r\n",
      "Requirement already satisfied: typing-extensions>=4.7 in /usr/local/lib/python3.11/dist-packages (from langchain-core>=0.1->langgraph) (4.13.2)\r\n",
      "Collecting ormsgpack<2.0.0,>=1.8.0 (from langgraph-checkpoint>=2.0.26->langgraph)\r\n",
      "  Downloading ormsgpack-1.10.0-cp311-cp311-manylinux_2_17_x86_64.manylinux2014_x86_64.whl.metadata (43 kB)\r\n",
      "\u001b[2K     \u001b[90m━━━━━━━━━━━━━━━━━━━━━━━━━━━━━━━━━━━━━━━━\u001b[0m \u001b[32m43.7/43.7 kB\u001b[0m \u001b[31m1.4 MB/s\u001b[0m eta \u001b[36m0:00:00\u001b[0m\r\n",
      "\u001b[?25hRequirement already satisfied: httpx>=0.25.2 in /usr/local/lib/python3.11/dist-packages (from langgraph-sdk>=0.1.42->langgraph) (0.28.1)\r\n",
      "Requirement already satisfied: orjson>=3.10.1 in /usr/local/lib/python3.11/dist-packages (from langgraph-sdk>=0.1.42->langgraph) (3.10.16)\r\n",
      "Requirement already satisfied: annotated-types>=0.6.0 in /usr/local/lib/python3.11/dist-packages (from pydantic>=2.7.4->langgraph) (0.7.0)\r\n",
      "Requirement already satisfied: pydantic-core==2.33.2 in /usr/local/lib/python3.11/dist-packages (from pydantic>=2.7.4->langgraph) (2.33.2)\r\n",
      "Requirement already satisfied: typing-inspection>=0.4.0 in /usr/local/lib/python3.11/dist-packages (from pydantic>=2.7.4->langgraph) (0.4.0)\r\n",
      "Requirement already satisfied: anyio in /usr/local/lib/python3.11/dist-packages (from httpx>=0.25.2->langgraph-sdk>=0.1.42->langgraph) (4.9.0)\r\n",
      "Requirement already satisfied: certifi in /usr/local/lib/python3.11/dist-packages (from httpx>=0.25.2->langgraph-sdk>=0.1.42->langgraph) (2025.4.26)\r\n",
      "Requirement already satisfied: httpcore==1.* in /usr/local/lib/python3.11/dist-packages (from httpx>=0.25.2->langgraph-sdk>=0.1.42->langgraph) (1.0.7)\r\n",
      "Requirement already satisfied: idna in /usr/local/lib/python3.11/dist-packages (from httpx>=0.25.2->langgraph-sdk>=0.1.42->langgraph) (3.10)\r\n",
      "Requirement already satisfied: h11<0.15,>=0.13 in /usr/local/lib/python3.11/dist-packages (from httpcore==1.*->httpx>=0.25.2->langgraph-sdk>=0.1.42->langgraph) (0.14.0)\r\n",
      "Requirement already satisfied: jsonpointer>=1.9 in /usr/local/lib/python3.11/dist-packages (from jsonpatch<2.0,>=1.33->langchain-core>=0.1->langgraph) (3.0.0)\r\n",
      "Requirement already satisfied: requests<3,>=2 in /usr/local/lib/python3.11/dist-packages (from langsmith<0.4,>=0.1.125->langchain-core>=0.1->langgraph) (2.32.3)\r\n",
      "Requirement already satisfied: requests-toolbelt<2.0.0,>=1.0.0 in /usr/local/lib/python3.11/dist-packages (from langsmith<0.4,>=0.1.125->langchain-core>=0.1->langgraph) (1.0.0)\r\n",
      "Requirement already satisfied: zstandard<0.24.0,>=0.23.0 in /usr/local/lib/python3.11/dist-packages (from langsmith<0.4,>=0.1.125->langchain-core>=0.1->langgraph) (0.23.0)\r\n",
      "Requirement already satisfied: charset-normalizer<4,>=2 in /usr/local/lib/python3.11/dist-packages (from requests<3,>=2->langsmith<0.4,>=0.1.125->langchain-core>=0.1->langgraph) (3.4.2)\r\n",
      "Requirement already satisfied: urllib3<3,>=1.21.1 in /usr/local/lib/python3.11/dist-packages (from requests<3,>=2->langsmith<0.4,>=0.1.125->langchain-core>=0.1->langgraph) (2.4.0)\r\n",
      "Requirement already satisfied: sniffio>=1.1 in /usr/local/lib/python3.11/dist-packages (from anyio->httpx>=0.25.2->langgraph-sdk>=0.1.42->langgraph) (1.3.1)\r\n",
      "Downloading langgraph-0.4.7-py3-none-any.whl (154 kB)\r\n",
      "\u001b[2K   \u001b[90m━━━━━━━━━━━━━━━━━━━━━━━━━━━━━━━━━━━━━━━━\u001b[0m \u001b[32m154.9/154.9 kB\u001b[0m \u001b[31m5.0 MB/s\u001b[0m eta \u001b[36m0:00:00\u001b[0m\r\n",
      "\u001b[?25hDownloading langgraph_checkpoint-2.0.26-py3-none-any.whl (44 kB)\r\n",
      "\u001b[2K   \u001b[90m━━━━━━━━━━━━━━━━━━━━━━━━━━━━━━━━━━━━━━━━\u001b[0m \u001b[32m44.2/44.2 kB\u001b[0m \u001b[31m2.0 MB/s\u001b[0m eta \u001b[36m0:00:00\u001b[0m\r\n",
      "\u001b[?25hDownloading langgraph_prebuilt-0.2.1-py3-none-any.whl (23 kB)\r\n",
      "Downloading langgraph_sdk-0.1.70-py3-none-any.whl (49 kB)\r\n",
      "\u001b[2K   \u001b[90m━━━━━━━━━━━━━━━━━━━━━━━━━━━━━━━━━━━━━━━━\u001b[0m \u001b[32m50.0/50.0 kB\u001b[0m \u001b[31m2.4 MB/s\u001b[0m eta \u001b[36m0:00:00\u001b[0m\r\n",
      "\u001b[?25hDownloading ormsgpack-1.10.0-cp311-cp311-manylinux_2_17_x86_64.manylinux2014_x86_64.whl (216 kB)\r\n",
      "\u001b[2K   \u001b[90m━━━━━━━━━━━━━━━━━━━━━━━━━━━━━━━━━━━━━━━━\u001b[0m \u001b[32m216.5/216.5 kB\u001b[0m \u001b[31m11.6 MB/s\u001b[0m eta \u001b[36m0:00:00\u001b[0m\r\n",
      "\u001b[?25hDownloading packaging-24.2-py3-none-any.whl (65 kB)\r\n",
      "\u001b[2K   \u001b[90m━━━━━━━━━━━━━━━━━━━━━━━━━━━━━━━━━━━━━━━━\u001b[0m \u001b[32m65.5/65.5 kB\u001b[0m \u001b[31m3.3 MB/s\u001b[0m eta \u001b[36m0:00:00\u001b[0m\r\n",
      "\u001b[?25hInstalling collected packages: packaging, ormsgpack, langgraph-sdk, langgraph-checkpoint, langgraph-prebuilt, langgraph\r\n",
      "  Attempting uninstall: packaging\r\n",
      "    Found existing installation: packaging 25.0\r\n",
      "    Uninstalling packaging-25.0:\r\n",
      "      Successfully uninstalled packaging-25.0\r\n",
      "\u001b[31mERROR: pip's dependency resolver does not currently take into account all the packages that are installed. This behaviour is the source of the following dependency conflicts.\r\n",
      "datasets 3.6.0 requires fsspec[http]<=2025.3.0,>=2023.1.0, but you have fsspec 2025.3.2 which is incompatible.\r\n",
      "cesium 0.12.4 requires numpy<3.0,>=2.0, but you have numpy 1.26.4 which is incompatible.\r\n",
      "bigframes 1.42.0 requires rich<14,>=12.4.4, but you have rich 14.0.0 which is incompatible.\r\n",
      "plotnine 0.14.5 requires matplotlib>=3.8.0, but you have matplotlib 3.7.2 which is incompatible.\r\n",
      "pandas-gbq 0.28.0 requires google-api-core<3.0.0dev,>=2.10.2, but you have google-api-core 1.34.1 which is incompatible.\r\n",
      "mlxtend 0.23.4 requires scikit-learn>=1.3.1, but you have scikit-learn 1.2.2 which is incompatible.\u001b[0m\u001b[31m\r\n",
      "\u001b[0mSuccessfully installed langgraph-0.4.7 langgraph-checkpoint-2.0.26 langgraph-prebuilt-0.2.1 langgraph-sdk-0.1.70 ormsgpack-1.10.0 packaging-24.2\r\n"
     ]
    }
   ],
   "source": [
    "!pip install langgraph"
   ]
  },
  {
   "cell_type": "code",
   "execution_count": 3,
   "id": "63b02864",
   "metadata": {
    "execution": {
     "iopub.execute_input": "2025-05-28T03:39:50.340946Z",
     "iopub.status.busy": "2025-05-28T03:39:50.340587Z",
     "iopub.status.idle": "2025-05-28T03:39:52.446511Z",
     "shell.execute_reply": "2025-05-28T03:39:52.445822Z"
    },
    "papermill": {
     "duration": 2.112071,
     "end_time": "2025-05-28T03:39:52.448102",
     "exception": false,
     "start_time": "2025-05-28T03:39:50.336031",
     "status": "completed"
    },
    "tags": []
   },
   "outputs": [],
   "source": [
    "from langgraph.graph import StateGraph, START, END\n",
    "from typing import TypedDict"
   ]
  },
  {
   "cell_type": "code",
   "execution_count": 4,
   "id": "c7b424e9",
   "metadata": {
    "execution": {
     "iopub.execute_input": "2025-05-28T03:39:52.456636Z",
     "iopub.status.busy": "2025-05-28T03:39:52.456158Z",
     "iopub.status.idle": "2025-05-28T03:39:52.461271Z",
     "shell.execute_reply": "2025-05-28T03:39:52.460507Z"
    },
    "papermill": {
     "duration": 0.010873,
     "end_time": "2025-05-28T03:39:52.462739",
     "exception": false,
     "start_time": "2025-05-28T03:39:52.451866",
     "status": "completed"
    },
    "tags": []
   },
   "outputs": [],
   "source": [
    "class AgentState(TypedDict):\n",
    "    number1: int\n",
    "    operation1: str\n",
    "    number2: int\n",
    "    number3: int\n",
    "    operation2: str\n",
    "    number4: int\n",
    "    finalNumber1: int\n",
    "    finalNumber2: int"
   ]
  },
  {
   "cell_type": "code",
   "execution_count": 5,
   "id": "c331604f",
   "metadata": {
    "execution": {
     "iopub.execute_input": "2025-05-28T03:39:52.471837Z",
     "iopub.status.busy": "2025-05-28T03:39:52.470950Z",
     "iopub.status.idle": "2025-05-28T03:39:52.478325Z",
     "shell.execute_reply": "2025-05-28T03:39:52.477473Z"
    },
    "papermill": {
     "duration": 0.013245,
     "end_time": "2025-05-28T03:39:52.479769",
     "exception": false,
     "start_time": "2025-05-28T03:39:52.466524",
     "status": "completed"
    },
    "tags": []
   },
   "outputs": [],
   "source": [
    "def add_node_one(state: AgentState) -> AgentState:\n",
    "    \"\"\"This node will add number 1 and number 2 integer values\"\"\"\n",
    "    state[\"finalNumber1\"] = state[\"number1\"] + state[\"number2\"]\n",
    "    return state\n",
    "\n",
    "def substract_node_one(state: AgentState) -> AgentState:\n",
    "    \"\"\"This node will substract number 1 and number 2 integer values\"\"\"\n",
    "    state[\"finalNumber1\"] = state[\"number1\"] - state[\"number2\"]\n",
    "    return state\n",
    "\n",
    "def router_one(state:AgentState) -> AgentState:\n",
    "    \"\"\"This node will decide what to do for the number 1 and number 2\"\"\"\n",
    "    if state[\"operation1\"] == \"+\":\n",
    "        return \"addition_operation_one\"\n",
    "    elif state[\"operation1\"] == \"-\":\n",
    "        return \"substraction_operation_one\"\n",
    "\n",
    "def add_node_two(state: AgentState) -> AgentState:\n",
    "    \"\"\"This node will add number 3 and number 4 integers\"\"\"\n",
    "    state[\"finalNumber2\"] = state[\"number3\"] + state[\"number4\"]\n",
    "    return state\n",
    "\n",
    "def substract_node_two(state: AgentState) -> AgentState:\n",
    "    \"\"\"This node will substract number 3 and number 4\"\"\"\n",
    "    state[\"finalNumber2\"] = state[\"number3\"] - state[\"number4\"]\n",
    "    return state\n",
    "\n",
    "def router_two(state: AgentState) -> AgentState:\n",
    "    \"\"\"This node will decide which operation to do for number 3 and number 4\"\"\"\n",
    "    if state[\"operation2\"] == \"+\":\n",
    "        return \"addition_operation_two\"\n",
    "    elif state[\"operation2\"] == \"-\":\n",
    "        return \"substraction_operation_two\""
   ]
  },
  {
   "cell_type": "code",
   "execution_count": 6,
   "id": "b80ff990",
   "metadata": {
    "execution": {
     "iopub.execute_input": "2025-05-28T03:39:52.488422Z",
     "iopub.status.busy": "2025-05-28T03:39:52.487776Z",
     "iopub.status.idle": "2025-05-28T03:39:52.500178Z",
     "shell.execute_reply": "2025-05-28T03:39:52.499266Z"
    },
    "papermill": {
     "duration": 0.018393,
     "end_time": "2025-05-28T03:39:52.501725",
     "exception": false,
     "start_time": "2025-05-28T03:39:52.483332",
     "status": "completed"
    },
    "tags": []
   },
   "outputs": [],
   "source": [
    "graph = StateGraph(AgentState)\n",
    "\n",
    "graph.add_node(\"add_node_one\", add_node_one)\n",
    "graph.add_node(\"substract_node_one\", substract_node_one)\n",
    "graph.add_node(\"router_one\", lambda state:state)\n",
    "graph.add_node(\"add_node_two\", add_node_two)\n",
    "graph.add_node(\"substract_node_two\", substract_node_two)\n",
    "graph.add_node(\"router_two\", lambda state:state)\n",
    "\n",
    "graph.add_edge(START, \"router_one\")\n",
    "\n",
    "graph.add_conditional_edges(\n",
    "    \"router_one\",\n",
    "    router_one,\n",
    "    {\n",
    "        \"addition_operation_one\": \"add_node_one\",\n",
    "        \"substraction_operation_one\": \"substract_node_one\"\n",
    "    }\n",
    ")\n",
    "\n",
    "graph.add_edge(\"add_node_one\", \"router_two\")\n",
    "graph.add_edge(\"substract_node_one\", \"router_two\")\n",
    "\n",
    "graph.add_conditional_edges(\n",
    "    \"router_two\",\n",
    "    router_two,\n",
    "    {\n",
    "        \"addition_operation_two\": \"add_node_two\",\n",
    "        \"substraction_operation_two\": \"substract_node_two\"\n",
    "    }\n",
    ")\n",
    "\n",
    "graph.add_edge(\"add_node_two\", END)\n",
    "graph.add_edge(\"substract_node_two\", END)\n",
    "\n",
    "app = graph.compile()"
   ]
  },
  {
   "cell_type": "code",
   "execution_count": 7,
   "id": "0333ffa9",
   "metadata": {
    "execution": {
     "iopub.execute_input": "2025-05-28T03:39:52.509982Z",
     "iopub.status.busy": "2025-05-28T03:39:52.509618Z",
     "iopub.status.idle": "2025-05-28T03:39:52.979708Z",
     "shell.execute_reply": "2025-05-28T03:39:52.978792Z"
    },
    "papermill": {
     "duration": 0.476723,
     "end_time": "2025-05-28T03:39:52.982033",
     "exception": false,
     "start_time": "2025-05-28T03:39:52.505310",
     "status": "completed"
    },
    "tags": []
   },
   "outputs": [
    {
     "data": {
      "image/png": "[encoded data removed]",
      "text/plain": [
       "<IPython.core.display.Image object>"
      ]
     },
     "metadata": {},
     "output_type": "display_data"
    }
   ],
   "source": [
    "from IPython.display import display, Image\n",
    "display(Image(app.get_graph().draw_mermaid_png()))"
   ]
  },
  {
   "cell_type": "code",
   "execution_count": 8,
   "id": "3bc3941e",
   "metadata": {
    "execution": {
     "iopub.execute_input": "2025-05-28T03:39:52.992251Z",
     "iopub.status.busy": "2025-05-28T03:39:52.991940Z",
     "iopub.status.idle": "2025-05-28T03:39:52.996459Z",
     "shell.execute_reply": "2025-05-28T03:39:52.995678Z"
    },
    "papermill": {
     "duration": 0.011306,
     "end_time": "2025-05-28T03:39:52.997789",
     "exception": false,
     "start_time": "2025-05-28T03:39:52.986483",
     "status": "completed"
    },
    "tags": []
   },
   "outputs": [],
   "source": [
    "initial_state_1 = AgentState({\"number1\" : 10, \"operation1\" : \"+\", \"number2\" : 5, \"number3\": 7, \"operation2\": \"-\", \"number4\": 2 })"
   ]
  },
  {
   "cell_type": "code",
   "execution_count": 9,
   "id": "1fe47356",
   "metadata": {
    "execution": {
     "iopub.execute_input": "2025-05-28T03:39:53.007991Z",
     "iopub.status.busy": "2025-05-28T03:39:53.007633Z",
     "iopub.status.idle": "2025-05-28T03:39:53.032083Z",
     "shell.execute_reply": "2025-05-28T03:39:53.030617Z"
    },
    "papermill": {
     "duration": 0.031195,
     "end_time": "2025-05-28T03:39:53.033583",
     "exception": false,
     "start_time": "2025-05-28T03:39:53.002388",
     "status": "completed"
    },
    "tags": []
   },
   "outputs": [
    {
     "name": "stdout",
     "output_type": "stream",
     "text": [
      "Final number 1: 15 and final number 2: 5\n"
     ]
    }
   ],
   "source": [
    "result = app.invoke(initial_state_1)\n",
    "print(f\"Final number 1: {result['finalNumber1']} and final number 2: {result['finalNumber2']}\")"
   ]
  },
  {
   "cell_type": "code",
   "execution_count": null,
   "id": "1a0cd63b",
   "metadata": {
    "papermill": {
     "duration": 0.004554,
     "end_time": "2025-05-28T03:39:53.042678",
     "exception": false,
     "start_time": "2025-05-28T03:39:53.038124",
     "status": "completed"
    },
    "tags": []
   },
   "outputs": [],
   "source": []
  }
 ],
 "metadata": {
  "kaggle": {
   "accelerator": "none",
   "dataSources": [],
   "dockerImageVersionId": 31040,
   "isGpuEnabled": false,
   "isInternetEnabled": true,
   "language": "python",
   "sourceType": "notebook"
  },
  "kernelspec": {
   "display_name": "Python 3",
   "language": "python",
   "name": "python3"
  },
  "language_info": {
   "codemirror_mode": {
    "name": "ipython",
    "version": 3
   },
   "file_extension": ".py",
   "mimetype": "text/x-python",
   "name": "python",
   "nbconvert_exporter": "python",
   "pygments_lexer": "ipython3",
   "version": "3.11.11"
  },
  "papermill": {
   "default_parameters": {},
   "duration": 16.82102,
   "end_time": "2025-05-28T03:39:53.768250",
   "environment_variables": {},
   "exception": null,
   "input_path": "__notebook__.ipynb",
   "output_path": "__notebook__.ipynb",
   "parameters": {},
   "start_time": "2025-05-28T03:39:36.947230",
   "version": "2.6.0"
  }
 },
 "nbformat": 4,
 "nbformat_minor": 5
}
